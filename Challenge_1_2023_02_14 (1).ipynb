{
 "cells": [
  {
   "cell_type": "code",
   "execution_count": null,
   "id": "7cd376c8",
   "metadata": {},
   "outputs": [],
   "source": []
  },
  {
   "cell_type": "markdown",
   "id": "125993da",
   "metadata": {},
   "source": [
    "(Deadline to send assignment to your mentor: 27th February)\n",
    "1st assignment (prepared by Jarek Butanowicz and Piotr Klich):\n",
    "Please pick and implement 2 out of 3 below exercises.\n",
    "If you have the time or want to practise more feel free to do all three but this is not required nor expected of you!\n",
    "\n",
    " \n",
    "\n",
    "Implement the famous FizzBuzz algorithm!\n",
    "Write a function (or just code without a function around it) that will print into the console integer numbers from 1 to 100.\n",
    "\n",
    "In addition an algorithm should print in the same row as number specific word (or words) i.e.:\n",
    "\n",
    "For each number divisible by three it should print “number-that-is-divisible-by-three” and “Fizz” word (e.g: “3 – Fizz”)\n",
    "For each number divisible by five it should print “number-that-is-divisible-by-five” and “Buzz” word (e.g.: “5 – Buzz”)\n",
    "If a number is divisible by both three and five it should print “FizzBuzz” word (e.g.: “15 – FizzBuzz”)\n",
    " \n",
    "\n",
    "Implement a system check for new users registering on a UBS-webmail that recently introduced.\n",
    "Please implement rules as stated below:\n",
    "\n",
    "Imagine that you're writing application that requires user input and your responsibility is a functionality that will accept and validate user name and email.\n",
    "\n",
    "Please write a code that will prompt user for both name and email and verify is these fields meet following expectations:\n",
    "\n",
    " \n",
    "\n",
    "User name can’t include any numeric characters (digits)\n",
    "User name can’t exceed 15 characters\n",
    "Email address must start with user name\n",
    "All email letters must be in lower case (here I’d provide hint that, please note that username and email address case might be different)\n",
    "Email address must end with `@ubs.com`\n",
    "Email address must include underscore (`_`) character\n",
    "Please validate that there are no whitespaces in email address.\n",
    " \n",
    "\n",
    "In case any of these requirements is not met, print a message that will allow user to easily fix detected issues.\n",
    "\n",
    "Keep asking for input as long as it's not valid.\n",
    "\n",
    "Keep in mind that it's quite common for users to accidentally include space at the beginning or end of the input they provide and it would be perfect if code could handle such case, without prompting user to enter input once again.\n",
    "\n",
    " \n",
    "\n",
    "Hints:\n",
    "\n",
    "- all checks can be implemented using built-in string methods\n",
    "\n",
    "- you can use one of the built-in loops to keep prompting for input as long as it's not valid\n",
    "\n",
    " \n",
    "\n",
    "Example (happy path):\n",
    "\n",
    " \n",
    "\n",
    "Please provide your name: Foo\n",
    "\n",
    "Please provide your email address: foo_bar@ubs.com\n",
    "\n",
    " \n",
    "\n",
    "Example (failure path):\n",
    "\n",
    " \n",
    "\n",
    "Please provide your name: Foo\n",
    "\n",
    "Please provide your email address:  papayajuice@foo.bar\n",
    "\n",
    "\n",
    "Whoops! It looks like your email doesn’t meet following requirements:\n",
    "\n",
    "…\n",
    "\n",
    "Implement Greatest Common Divisor (GCD or in Polish Największy Wspólny Podzielnik) algorithm.\n",
    "Flow chart of code-logic attached (don’t know how to read it… Google it!)\n",
    "\n",
    " \n",
    "\n",
    "Good luck and enjoy!\n",
    "\n",
    "Your Code Red Team\n",
    "\n",
    " \n",
    "\n",
    "\n",
    "\n",
    " \n",
    "\n",
    " "
   ]
  },
  {
   "cell_type": "markdown",
   "id": "815b618f",
   "metadata": {},
   "source": [
    "Implement the famous FizzBuzz algorithm!\n",
    "Write a function (or just code without a function around it) that will print into the console integer numbers from 1 to 100.\n",
    "\n",
    "In addition an algorithm should print in the same row as number specific word (or words) i.e.:\n",
    "\n",
    "For each number divisible by three it should print “number-that-is-divisible-by-three” and “Fizz” word (e.g: “3 – Fizz”)\n",
    "For each number divisible by five it should print “number-that-is-divisible-by-five” and “Buzz” word (e.g.: “5 – Buzz”)\n",
    "If a number is divisible by both three and five it should print “FizzBuzz” word (e.g.: “15 – FizzBuzz”)\n",
    "\n",
    "\n",
    "00:51 start"
   ]
  },
  {
   "cell_type": "markdown",
   "id": "c931ec0b",
   "metadata": {},
   "source": [
    "zrobione do etapu poniższych 3 do 1:10 = 19 minut"
   ]
  },
  {
   "cell_type": "code",
   "execution_count": null,
   "id": "281efe96",
   "metadata": {},
   "outputs": [],
   "source": [
    "def fizzbuzz(i):\n",
    "    output = \"\"\n",
    "    if i % 3 == 0 and i % 5 == 0:\n",
    "        output =\"15 - FizzBuzz\"\n",
    "    else:\n",
    "        if i % 3 == 0:\n",
    "            output = \"3 - Fizz\"\n",
    "        if i % 5 == 0:\n",
    "            output = \"5 - Buzz\"\n",
    "            \n",
    "    print(i,output)\n",
    "    \n",
    "        "
   ]
  },
  {
   "cell_type": "code",
   "execution_count": null,
   "id": "b7dc518c",
   "metadata": {},
   "outputs": [],
   "source": [
    "def amazing_function_1():\n",
    "    for i in range(1,101):\n",
    "        fizzbuzz(i)\n"
   ]
  },
  {
   "cell_type": "code",
   "execution_count": null,
   "id": "0caef248",
   "metadata": {},
   "outputs": [],
   "source": [
    "def fizzbuzz_2():\n",
    "    for i in range(1,101):\n",
    "        output = \"\"\n",
    "        if i % 3 == 0 and i % 5 == 0:\n",
    "            output =\"15 - FizzBuzz\"\n",
    "        else:\n",
    "            if i % 3 == 0:\n",
    "                output = \"3 - Fizz\"\n",
    "            if i % 5 == 0:\n",
    "                output = \"5 - Buzz\"\n",
    "        print(i,output)\n",
    "    \n",
    "        "
   ]
  },
  {
   "cell_type": "code",
   "execution_count": null,
   "id": "3f3c27c6",
   "metadata": {},
   "outputs": [],
   "source": [
    "fizzbuzz_2()"
   ]
  },
  {
   "cell_type": "code",
   "execution_count": null,
   "id": "5ea2bfd4",
   "metadata": {},
   "outputs": [],
   "source": [
    "amazing_function_1()"
   ]
  },
  {
   "cell_type": "code",
   "execution_count": null,
   "id": "9f6327a9",
   "metadata": {},
   "outputs": [],
   "source": [
    "Task_2\n",
    "notatki:\n",
    "    1.pomyślałam o inputboxie z tymi informacjami jakie mają być requirement\n",
    "    2. jeden inputbox z dwoma fieldami? - raczej nie mozliwe samym pythonem, jest biblioteka:\n",
    "        https://www.quora.com/How-do-you-make-an-input-box-in-Python-with-two-text-boxes\n",
    "    3.pamiętaj, ze input zawsze będzie stringiem! nawet jak ktoś wpisze numer\n",
    "    \n",
    "    "
   ]
  },
  {
   "cell_type": "code",
   "execution_count": null,
   "id": "a9954370",
   "metadata": {},
   "outputs": [],
   "source": [
    "input(\"Please input your name in first prompt:\")\n",
    "#działa"
   ]
  },
  {
   "cell_type": "code",
   "execution_count": null,
   "id": "6544bfc3",
   "metadata": {},
   "outputs": [],
   "source": [
    "input(\"AHA \\n aha\")\n",
    "#działa"
   ]
  },
  {
   "cell_type": "code",
   "execution_count": null,
   "id": "c4b8841b",
   "metadata": {},
   "outputs": [],
   "source": [
    "input(\"Please input your name in first prompt \\n\n",
    "Please note, that name must follow below requirements: \\n\n",
    "User name can’t include any numeric characters (digits) \\n\n",
    "User name can’t exceed 15 characters \\n\n",
    "Email address must start with user name \\n\n",
    "All email letters must be in lower case \\n\n",
    "Email address must end with @ubs.com \\n\n",
    "Email address must include underscore character \\n\n",
    "Please validate that there are no whitespaces in email address.\")\n",
    "\n",
    "#nie działa"
   ]
  },
  {
   "cell_type": "code",
   "execution_count": null,
   "id": "1438c494",
   "metadata": {},
   "outputs": [],
   "source": [
    "def name_check():\n",
    "    user_name = input(\"Please input your name:\")\n",
    "    for n in user_name:\n",
    "        while n.isnumeric() == True:\n",
    "            user_name = input(\"Name should contain only letters, please input your name without numbers!\")\n",
    "            break\n",
    "        while len(user_name) >= 15:\n",
    "            user_name = input(\"Name should NOT exceed 15 characters, please type shorter name!\")\n",
    "            break     \n",
    "            \n",
    "#continue asking for input - działa ale jak PO wpisaniu 15 liter, wpiszę liczbę to przechodzi\n",
    "#musiałabym te dwa warunki dać w jednym whilu ale wtedy mam inne error message, \n",
    "#moze lepiej użyć try except i valueerror"
   ]
  },
  {
   "cell_type": "code",
   "execution_count": null,
   "id": "bc5480c4",
   "metadata": {},
   "outputs": [],
   "source": [
    "name_check()"
   ]
  },
  {
   "cell_type": "code",
   "execution_count": null,
   "id": "0514267f",
   "metadata": {},
   "outputs": [],
   "source": [
    "\n",
    "#2:09 - 1h 20 min do tego etapu\n",
    "\n",
    "def name_check_2():\n",
    "    while True:\n",
    "        try:\n",
    "            user_name = input(\"Please input your name:\")\n",
    "        except ValueError\n",
    "    for n in user_name:\n",
    "        while n.isnumeric() == True:\n",
    "            user_name = input(\"Name should contain only letters, please input your name without numbers!\")\n",
    "        while len(user_name) >= 15:\n",
    "            user_name = input(\"Name should NOT exceed 15 characters, please type shorter name!\")\n",
    "                    \n",
    "        #continue asking for input"
   ]
  },
  {
   "cell_type": "code",
   "execution_count": null,
   "id": "1087a3bb",
   "metadata": {},
   "outputs": [],
   "source": [
    "name_check_2()"
   ]
  },
  {
   "cell_type": "code",
   "execution_count": null,
   "id": "5a3b8555",
   "metadata": {},
   "outputs": [],
   "source": [
    "#start 11:41 28/02\n",
    "#idea with error list\n",
    "#jeśli appenduję errory do listy to zaczynam od pustej listy więc nie mogę zacząć pętli od while lista jest empty, \n",
    "#bo ona będzie empty na starcie przecież\n",
    "#mogłabym usuwać z listy errory, ale Jacek mówił o appendowaniu a nie usuwaniu, \n",
    "#plus to nie brzmi dobrze żeby zczynać od listy errorów i usuwac je w pętli\n",
    "\n",
    "def name_check_3():\n",
    "    error_list = []\n",
    "    user_name = input(\"Please input your name:\")\n",
    "    while coś tam   \n",
    "        for n in user_name:\n",
    "            while n.isnumeric() == True:\n",
    "                    #jezuu tutaj za każdym numerycznym znakiem mi apenduje ten error miliard razy\n",
    "                    #ta składnia while True miała sens bo jak tylko pojawił sie numeric to leciał nowy input\n",
    "                    #a teraz?\n",
    "                error_list.append(\"Name should contain only letters, please input your name without numbers!\")\n",
    "            while len(user_name) >= 15:\n",
    "                error_list.append(\"Name should NOT exceed 15 characters, please type shorter name!\")\n",
    "    \n",
    "        user_name = input(error_list)           \n",
    "        #continue asking for input\n",
    "\n",
    "    "
   ]
  },
  {
   "cell_type": "code",
   "execution_count": null,
   "id": "f2b4d974",
   "metadata": {},
   "outputs": [],
   "source": [
    "name_check_3()"
   ]
  },
  {
   "cell_type": "code",
   "execution_count": null,
   "id": "e3269c2c",
   "metadata": {},
   "outputs": [],
   "source": [
    "error_list = [\"A\",\"B\"]\n",
    "#print(*error_list, sep = \", \")\n",
    "#user_name = input(error_list)\n",
    "error_list.append(\"C\")\n",
    "error_list"
   ]
  },
  {
   "cell_type": "code",
   "execution_count": 19,
   "id": "8bce1e1f",
   "metadata": {},
   "outputs": [],
   "source": [
    "#start 13:19-40 28/02\n",
    "#idea with error list\n",
    "#jeśli appenduję errory do listy to zaczynam od pustej listy więc nie mogę zacząć pętli od while lista jest empty, \n",
    "#bo ona będzie empty na starcie przecież\n",
    "#mogłabym usuwać z listy errory, ale Jacek mówił o appendowaniu a nie usuwaniu, \n",
    "#plus to nie brzmi dobrze żeby zczynać od listy errorów i usuwac je w pętli\n",
    "\n",
    "def name_check_4():\n",
    "\n",
    "    #print(len(error_list))\n",
    "    error_list = []\n",
    "    print(len(error_list))\n",
    "    user_name = input(\"Please input your name:\")\n",
    "    \n",
    "    if len(error_list) >=1:\n",
    "        user_name = input(error_list)\n",
    "\n",
    "        for n in user_name:\n",
    "            error_list = []\n",
    "            if len(user_name) >= 3:\n",
    "                error_list.append(\"Name should NOT exceed 15 characters, please type shorter name!\")\n",
    "                break\n",
    "            if n.isnumeric() == True: #to jest nieefficient mocno, bo sprawdza lena dla kazdego n w username\n",
    "                error_list.append(\"Name should contain only letters, please input your name without numbers!\")\n",
    "                break\n",
    "    \n",
    "    print(\"Good job!\")\n",
    "\n",
    "# wpisując aga1 zwraca ze exceeds 3 characters, bo chuj wie czemu, nawet jesli analizuje po kolei char1 an tcyh \n",
    "#2 ifach, potem char 2 na nich etc to jak dochodzi do 4tego to najpierw jest argumnnt że 1 to numer przecież\n",
    "\n",
    "#16:27-16:38 poprawki Szymonna pierwszym characterze onie widzial ze jest nieliterą ale od razu widział len\n",
    "#wyjebać len poza fora, bo \n",
    "\n",
    "#18:32-18:51 instagram\n",
    "#18:57"
   ]
  },
  {
   "cell_type": "code",
   "execution_count": 21,
   "id": "d3f045e4",
   "metadata": {},
   "outputs": [
    {
     "name": "stdout",
     "output_type": "stream",
     "text": [
      "0\n",
      "Please input your name:1\n",
      "Good job!\n"
     ]
    }
   ],
   "source": [
    "name_check_4()"
   ]
  },
  {
   "cell_type": "code",
   "execution_count": null,
   "id": "17dce160",
   "metadata": {},
   "outputs": [],
   "source": [
    "1"
   ]
  }
 ],
 "metadata": {
  "kernelspec": {
   "display_name": "Python 3 (ipykernel)",
   "language": "python",
   "name": "python3"
  },
  "language_info": {
   "codemirror_mode": {
    "name": "ipython",
    "version": 3
   },
   "file_extension": ".py",
   "mimetype": "text/x-python",
   "name": "python",
   "nbconvert_exporter": "python",
   "pygments_lexer": "ipython3",
   "version": "3.9.13"
  }
 },
 "nbformat": 4,
 "nbformat_minor": 5
}
